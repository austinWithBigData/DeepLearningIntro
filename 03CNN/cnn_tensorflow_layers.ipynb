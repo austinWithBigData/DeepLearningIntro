{
 "cells": [
  {
   "cell_type": "markdown",
   "metadata": {},
   "source": [
    "# Convolutional Neural Network Example - tf.layers API"
   ]
  },
  {
   "cell_type": "code",
   "execution_count": 1,
   "metadata": {},
   "outputs": [
    {
     "name": "stdout",
     "output_type": "stream",
     "text": [
      "Extracting /tmp/data/train-images-idx3-ubyte.gz\n",
      "Extracting /tmp/data/train-labels-idx1-ubyte.gz\n",
      "Extracting /tmp/data/t10k-images-idx3-ubyte.gz\n",
      "Extracting /tmp/data/t10k-labels-idx1-ubyte.gz\n"
     ]
    }
   ],
   "source": [
    "from __future__ import division, print_function, absolute_import\n",
    "\n",
    "# Import MNIST data\n",
    "from tensorflow.examples.tutorials.mnist import input_data\n",
    "mnist = input_data.read_data_sets(\"/tmp/data/\", one_hot=False)\n",
    "\n",
    "import tensorflow as tf\n",
    "import matplotlib.pyplot as plt\n",
    "import numpy as np"
   ]
  },
  {
   "cell_type": "code",
   "execution_count": 2,
   "metadata": {
    "collapsed": true
   },
   "outputs": [],
   "source": [
    "# Training Parameters\n",
    "learning_rate = 0.001 #learning rate\n",
    "num_steps = 2000 # train steps\n",
    "batch_size = 128 # size\n",
    "\n",
    "# Network Parameters\n",
    "num_input = 784 # MNIST img size (img shape: 28*28)\n",
    "num_classes = 10 # MNIST classes (0-9 digits)\n",
    "dropout = 0.75 # Dropout, probability to keep units = (1-p)"
   ]
  },
  {
   "cell_type": "code",
   "execution_count": 3,
   "metadata": {
    "collapsed": true
   },
   "outputs": [],
   "source": [
    "# Create the neural network\n",
    "def conv_net(x_dict, n_classes, dropout, reuse, is_training):\n",
    "    \n",
    "    # Define a scope for reusing the variables\n",
    "    with tf.variable_scope('ConvNet', reuse=reuse):\n",
    "        # TF Estimator\n",
    "        x = x_dict['images']\n",
    "\n",
    "        # Reshape to match picture format [Height x Width x Channel]\n",
    "        # Tensor input become 4-D: [Batch Size, Height, Width, Channel]\n",
    "        x = tf.reshape(x, shape=[-1, 28, 28, 1])\n",
    "\n",
    "        # conv layer, 32 kernels, size 5x5\n",
    "        conv1 = tf.layers.conv2d(x, 32, 5, activation=tf.nn.relu)\n",
    "        # max pooling layer, stripe 2 \n",
    "        conv1 = tf.layers.max_pooling2d(conv1, 2, 2)\n",
    "\n",
    "        # conv layer, 64 kernels, size 3x3\n",
    "        conv2 = tf.layers.conv2d(conv1, 64, 3, activation=tf.nn.relu)\n",
    "        # max pooling layer, stripe 2 \n",
    "        conv2 = tf.layers.max_pooling2d(conv2, 2, 2)\n",
    "\n",
    "        # fully connected layer, convert to one layer\n",
    "        fc1 = tf.contrib.layers.flatten(conv2)\n",
    "\n",
    "        # fully connected layer\n",
    "        fc1 = tf.layers.dense(fc1, 1024)\n",
    "        # apply Dropout (when training is ON, when testing is OFF)\n",
    "        fc1 = tf.layers.dropout(fc1, rate=dropout, training=is_training)\n",
    "\n",
    "        # output layer\n",
    "        out = tf.layers.dense(fc1, n_classes)\n",
    "\n",
    "    return out"
   ]
  },
  {
   "cell_type": "code",
   "execution_count": 4,
   "metadata": {
    "collapsed": true
   },
   "outputs": [],
   "source": [
    "# TF Estimator\n",
    "def model_fn(features, labels, mode):\n",
    "    \n",
    "    # construct NN\n",
    "    logits_train = conv_net(features, num_classes, dropout, reuse=False, is_training=True)\n",
    "    logits_test = conv_net(features, num_classes, dropout, reuse=True, is_training=False)\n",
    "    \n",
    "    # predict\n",
    "    pred_classes = tf.argmax(logits_test, axis=1)\n",
    "    pred_probas = tf.nn.softmax(logits_test)\n",
    "    \n",
    "    if mode == tf.estimator.ModeKeys.PREDICT:\n",
    "        return tf.estimator.EstimatorSpec(mode, predictions=pred_classes) \n",
    "        \n",
    "    # loss function and optimizer\n",
    "    loss_op = tf.reduce_mean(tf.nn.sparse_softmax_cross_entropy_with_logits(\n",
    "        logits=logits_train, labels=tf.cast(labels, dtype=tf.int32)))\n",
    "    optimizer = tf.train.AdamOptimizer(learning_rate=learning_rate)\n",
    "    train_op = optimizer.minimize(loss_op, global_step=tf.train.get_global_step())\n",
    "    \n",
    "    # model accuracy\n",
    "    acc_op = tf.metrics.accuracy(labels=labels, predictions=pred_classes)\n",
    "    \n",
    "    # TF Estimators return EstimatorSpec\n",
    "    estim_specs = tf.estimator.EstimatorSpec(\n",
    "      mode=mode,\n",
    "      predictions=pred_classes,\n",
    "      loss=loss_op,\n",
    "      train_op=train_op,\n",
    "      eval_metric_ops={'accuracy': acc_op})\n",
    "\n",
    "    return estim_specs"
   ]
  },
  {
   "cell_type": "code",
   "execution_count": 5,
   "metadata": {},
   "outputs": [
    {
     "name": "stdout",
     "output_type": "stream",
     "text": [
      "INFO:tensorflow:Using default config.\n",
      "WARNING:tensorflow:Using temporary folder as model directory: C:\\Users\\Peter\\AppData\\Local\\Temp\\tmpdy_fuj8g\n",
      "INFO:tensorflow:Using config: {'_model_dir': 'C:\\\\Users\\\\Peter\\\\AppData\\\\Local\\\\Temp\\\\tmpdy_fuj8g', '_tf_random_seed': 1, '_save_summary_steps': 100, '_save_checkpoints_secs': 600, '_save_checkpoints_steps': None, '_session_config': None, '_keep_checkpoint_max': 5, '_keep_checkpoint_every_n_hours': 10000}\n"
     ]
    }
   ],
   "source": [
    "# construct Estimator\n",
    "model = tf.estimator.Estimator(model_fn)"
   ]
  },
  {
   "cell_type": "code",
   "execution_count": 6,
   "metadata": {},
   "outputs": [
    {
     "name": "stdout",
     "output_type": "stream",
     "text": [
      "INFO:tensorflow:Create CheckpointSaverHook.\n",
      "INFO:tensorflow:Saving checkpoints for 1 into C:\\Users\\Peter\\AppData\\Local\\Temp\\tmpdy_fuj8g\\model.ckpt.\n",
      "INFO:tensorflow:loss = 2.32756, step = 1\n",
      "INFO:tensorflow:global_step/sec: 10.8217\n",
      "INFO:tensorflow:loss = 0.271779, step = 101 (9.242 sec)\n",
      "INFO:tensorflow:global_step/sec: 11.2508\n",
      "INFO:tensorflow:loss = 0.149701, step = 201 (8.888 sec)\n",
      "INFO:tensorflow:global_step/sec: 11.2615\n",
      "INFO:tensorflow:loss = 0.159865, step = 301 (8.880 sec)\n",
      "INFO:tensorflow:global_step/sec: 11.5177\n",
      "INFO:tensorflow:loss = 0.0478833, step = 401 (8.682 sec)\n",
      "INFO:tensorflow:global_step/sec: 11.1845\n",
      "INFO:tensorflow:loss = 0.0932522, step = 501 (8.941 sec)\n",
      "INFO:tensorflow:global_step/sec: 11.1908\n",
      "INFO:tensorflow:loss = 0.152593, step = 601 (8.936 sec)\n",
      "INFO:tensorflow:global_step/sec: 11.3429\n",
      "INFO:tensorflow:loss = 0.0341131, step = 701 (8.816 sec)\n",
      "INFO:tensorflow:global_step/sec: 11.5411\n",
      "INFO:tensorflow:loss = 0.0116405, step = 801 (8.665 sec)\n",
      "INFO:tensorflow:global_step/sec: 11.3216\n",
      "INFO:tensorflow:loss = 0.016454, step = 901 (8.832 sec)\n",
      "INFO:tensorflow:global_step/sec: 11.5524\n",
      "INFO:tensorflow:loss = 0.0149211, step = 1001 (8.657 sec)\n",
      "INFO:tensorflow:global_step/sec: 11.259\n",
      "INFO:tensorflow:loss = 0.0344076, step = 1101 (8.882 sec)\n",
      "INFO:tensorflow:global_step/sec: 11.0802\n",
      "INFO:tensorflow:loss = 0.0150122, step = 1201 (9.025 sec)\n",
      "INFO:tensorflow:global_step/sec: 11.2896\n",
      "INFO:tensorflow:loss = 0.0474981, step = 1301 (8.858 sec)\n",
      "INFO:tensorflow:global_step/sec: 11.2463\n",
      "INFO:tensorflow:loss = 0.0109813, step = 1401 (8.922 sec)\n",
      "INFO:tensorflow:global_step/sec: 11.3266\n",
      "INFO:tensorflow:loss = 0.0944272, step = 1501 (8.798 sec)\n",
      "INFO:tensorflow:global_step/sec: 10.2101\n",
      "INFO:tensorflow:loss = 0.0601579, step = 1601 (9.795 sec)\n",
      "INFO:tensorflow:global_step/sec: 10.7627\n",
      "INFO:tensorflow:loss = 0.0384837, step = 1701 (9.291 sec)\n",
      "INFO:tensorflow:global_step/sec: 10.6557\n",
      "INFO:tensorflow:loss = 0.0104421, step = 1801 (9.385 sec)\n",
      "INFO:tensorflow:global_step/sec: 10.5509\n",
      "INFO:tensorflow:loss = 0.013369, step = 1901 (9.478 sec)\n",
      "INFO:tensorflow:Saving checkpoints for 2000 into C:\\Users\\Peter\\AppData\\Local\\Temp\\tmpdy_fuj8g\\model.ckpt.\n",
      "INFO:tensorflow:Loss for final step: 0.012188.\n"
     ]
    },
    {
     "data": {
      "text/plain": [
       "<tensorflow.python.estimator.estimator.Estimator at 0x2719961deb8>"
      ]
     },
     "execution_count": 6,
     "metadata": {},
     "output_type": "execute_result"
    }
   ],
   "source": [
    "# training input function\n",
    "input_fn = tf.estimator.inputs.numpy_input_fn(\n",
    "    x={'images': mnist.train.images}, y=mnist.train.labels,\n",
    "    batch_size=batch_size, num_epochs=None, shuffle=True)\n",
    "\n",
    "# start training\n",
    "model.train(input_fn, steps=num_steps)"
   ]
  },
  {
   "cell_type": "code",
   "execution_count": null,
   "metadata": {},
   "outputs": [],
   "source": [
    "# eval model\n",
    "# the inputs\n",
    "input_fn = tf.estimator.inputs.numpy_input_fn(\n",
    "    x={'images': mnist.test.images}, y=mnist.test.labels,\n",
    "    batch_size=batch_size, shuffle=False)\n",
    "model.evaluate(input_fn)"
   ]
  },
  {
   "cell_type": "code",
   "execution_count": null,
   "metadata": {
    "collapsed": true
   },
   "outputs": [],
   "source": [
    "# predict single image\n",
    "n_images = 4\n",
    "\n",
    "# test images\n",
    "test_images = mnist.test.images[:n_images]\n",
    "\n",
    "# prepare input data\n",
    "input_fn = tf.estimator.inputs.numpy_input_fn(\n",
    "    x={'images': test_images}, shuffle=False)\n",
    "\n",
    "# predict\n",
    "preds = list(model.predict(input_fn))\n",
    "\n",
    "# plotting\n",
    "for i in range(n_images):\n",
    "    plt.imshow(np.reshape(test_images[i], [28, 28]), cmap='gray')\n",
    "    plt.show()\n",
    "    print(\"Model prediction:\", preds[i])"
   ]
  }
 ],
 "metadata": {
  "kernelspec": {
   "display_name": "Python 3",
   "language": "python",
   "name": "python3"
  },
  "language_info": {
   "codemirror_mode": {
    "name": "ipython",
    "version": 3
   },
   "file_extension": ".py",
   "mimetype": "text/x-python",
   "name": "python",
   "nbconvert_exporter": "python",
   "pygments_lexer": "ipython3",
   "version": "3.6.2"
  }
 },
 "nbformat": 4,
 "nbformat_minor": 2
}
