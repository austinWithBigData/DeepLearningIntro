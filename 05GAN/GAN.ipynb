{
 "cells": [
  {
   "cell_type": "markdown",
   "metadata": {},
   "source": [
    "# Generative Adversarial Network Example"
   ]
  },
  {
   "cell_type": "code",
   "execution_count": 1,
   "metadata": {
    "collapsed": true
   },
   "outputs": [],
   "source": [
    "from __future__ import division, print_function, absolute_import\n",
    "import matplotlib.pyplot as plt\n",
    "import numpy as np\n",
    "import tensorflow as tf"
   ]
  },
  {
   "cell_type": "code",
   "execution_count": 2,
   "metadata": {},
   "outputs": [
    {
     "name": "stdout",
     "output_type": "stream",
     "text": [
      "Extracting ./data/train-images-idx3-ubyte.gz\n",
      "Extracting ./data/train-labels-idx1-ubyte.gz\n",
      "Extracting ./data/t10k-images-idx3-ubyte.gz\n",
      "Extracting ./data/t10k-labels-idx1-ubyte.gz\n"
     ]
    }
   ],
   "source": [
    "# import MNIST data\n",
    "from tensorflow.examples.tutorials.mnist import input_data\n",
    "mnist = input_data.read_data_sets(\"./data/\", one_hot=True)"
   ]
  },
  {
   "cell_type": "code",
   "execution_count": 3,
   "metadata": {
    "collapsed": true
   },
   "outputs": [],
   "source": [
    "# training params\n",
    "num_steps = 70000\n",
    "batch_size = 128\n",
    "learning_rate = 0.0002\n",
    "\n",
    "# network params\n",
    "image_dim = 784 # 28x28 pixels\n",
    "gen_hidden_dim = 256\n",
    "disc_hidden_dim = 256\n",
    "noise_dim = 100 # noise data points\n",
    "\n",
    "# Xavier init\n",
    "def glorot_init(shape):\n",
    "    return tf.random_normal(shape=shape, stddev=1. / tf.sqrt(shape[0] / 2.))"
   ]
  },
  {
   "cell_type": "code",
   "execution_count": 5,
   "metadata": {},
   "outputs": [],
   "source": [
    "# Store layers weights & bias\n",
    "weights = {\n",
    "    'gen_hidden1': tf.Variable(glorot_init([noise_dim, gen_hidden_dim])),\n",
    "    'gen_out': tf.Variable(glorot_init([gen_hidden_dim, image_dim])),\n",
    "    'disc_hidden1': tf.Variable(glorot_init([image_dim, disc_hidden_dim])),\n",
    "    'disc_out': tf.Variable(glorot_init([disc_hidden_dim, 1])),\n",
    "}\n",
    "\n",
    "biases = {\n",
    "    'gen_hidden1': tf.Variable(tf.zeros([gen_hidden_dim])),\n",
    "    'gen_out': tf.Variable(tf.zeros([image_dim])),\n",
    "    'disc_hidden1': tf.Variable(tf.zeros([disc_hidden_dim])),\n",
    "    'disc_out': tf.Variable(tf.zeros([1])),\n",
    "}"
   ]
  },
  {
   "cell_type": "code",
   "execution_count": 7,
   "metadata": {},
   "outputs": [],
   "source": [
    "# Generator\n",
    "def generator(x):\n",
    "    hidden_layer = tf.matmul(x, weights['gen_hidden1'])\n",
    "    hidden_layer = tf.add(hidden_layer, biases['gen_hidden1'])\n",
    "    hidden_layer = tf.nn.relu(hidden_layer)\n",
    "    out_layer = tf.matmul(hidden_layer, weights['gen_out'])\n",
    "    out_layer = tf.add(out_layer, biases['gen_out'])\n",
    "    out_layer = tf.nn.sigmoid(out_layer)\n",
    "    return out_layer\n",
    "\n",
    "\n",
    "# Discriminator\n",
    "def discriminator(x):\n",
    "    hidden_layer = tf.matmul(x, weights['disc_hidden1'])\n",
    "    hidden_layer = tf.add(hidden_layer, biases['disc_hidden1'])\n",
    "    hidden_layer = tf.nn.relu(hidden_layer)\n",
    "    out_layer = tf.matmul(hidden_layer, weights['disc_out'])\n",
    "    out_layer = tf.add(out_layer, biases['disc_out'])\n",
    "    out_layer = tf.nn.sigmoid(out_layer)\n",
    "    return out_layer\n",
    "\n",
    "# Build Networks\n",
    "# Network Inputs\n",
    "gen_input = tf.placeholder(tf.float32, shape=[None, noise_dim], name='input_noise')\n",
    "disc_input = tf.placeholder(tf.float32, shape=[None, image_dim], name='disc_input')\n",
    "\n",
    "# Build Generator Network\n",
    "gen_sample = generator(gen_input)\n",
    "\n",
    "# Build 2 Discriminator Networks (one from noise input, one from generated samples)\n",
    "disc_real = discriminator(disc_input)\n",
    "disc_fake = discriminator(gen_sample)\n",
    "\n",
    "# Build Loss\n",
    "gen_loss = -tf.reduce_mean(tf.log(disc_fake))\n",
    "disc_loss = -tf.reduce_mean(tf.log(disc_real) + tf.log(1. - disc_fake))\n",
    "\n",
    "# Build Optimizers\n",
    "optimizer_gen = tf.train.AdamOptimizer(learning_rate=learning_rate)\n",
    "optimizer_disc = tf.train.AdamOptimizer(learning_rate=learning_rate)\n",
    "\n",
    "# Training Variables for each optimizer\n",
    "# By default in TensorFlow, all variables are updated by each optimizer, so we\n",
    "# need to precise for each one of them the specific variables to update.\n",
    "# Generator Network Variables\n",
    "gen_vars = [weights['gen_hidden1'], weights['gen_out'],\n",
    "            biases['gen_hidden1'], biases['gen_out']]\n",
    "# Discriminator Network Variables\n",
    "disc_vars = [weights['disc_hidden1'], weights['disc_out'],\n",
    "            biases['disc_hidden1'], biases['disc_out']]\n",
    "\n",
    "# Create training operations\n",
    "train_gen = optimizer_gen.minimize(gen_loss, var_list=gen_vars)\n",
    "train_disc = optimizer_disc.minimize(disc_loss, var_list=disc_vars)\n",
    "\n",
    "# Initialize the variables (i.e. assign their default value)\n",
    "init = tf.global_variables_initializer()"
   ]
  },
  {
   "cell_type": "code",
   "execution_count": 8,
   "metadata": {},
   "outputs": [
    {
     "name": "stdout",
     "output_type": "stream",
     "text": [
      "Step 1: Generator Loss: 1.023146, Discriminator Loss: 1.367894\n",
      "Step 2000: Generator Loss: 4.560000, Discriminator Loss: 0.028605\n",
      "Step 4000: Generator Loss: 4.060015, Discriminator Loss: 0.097405\n",
      "Step 6000: Generator Loss: 3.596699, Discriminator Loss: 0.125880\n",
      "Step 8000: Generator Loss: 3.115908, Discriminator Loss: 0.295021\n",
      "Step 10000: Generator Loss: 3.187584, Discriminator Loss: 0.160237\n",
      "Step 12000: Generator Loss: 3.468907, Discriminator Loss: 0.204139\n",
      "Step 14000: Generator Loss: 3.760694, Discriminator Loss: 0.195764\n",
      "Step 16000: Generator Loss: 3.648418, Discriminator Loss: 0.237549\n",
      "Step 18000: Generator Loss: 3.935552, Discriminator Loss: 0.185833\n",
      "Step 20000: Generator Loss: 3.388726, Discriminator Loss: 0.311302\n",
      "Step 22000: Generator Loss: 3.328998, Discriminator Loss: 0.276493\n",
      "Step 24000: Generator Loss: 3.001431, Discriminator Loss: 0.347840\n",
      "Step 26000: Generator Loss: 3.422647, Discriminator Loss: 0.316167\n",
      "Step 28000: Generator Loss: 3.118720, Discriminator Loss: 0.335772\n",
      "Step 30000: Generator Loss: 3.495843, Discriminator Loss: 0.209975\n",
      "Step 32000: Generator Loss: 2.860875, Discriminator Loss: 0.371437\n",
      "Step 34000: Generator Loss: 3.221175, Discriminator Loss: 0.343785\n",
      "Step 36000: Generator Loss: 3.068396, Discriminator Loss: 0.322527\n",
      "Step 38000: Generator Loss: 2.892326, Discriminator Loss: 0.427902\n",
      "Step 40000: Generator Loss: 2.870244, Discriminator Loss: 0.524407\n",
      "Step 42000: Generator Loss: 2.826920, Discriminator Loss: 0.517029\n",
      "Step 44000: Generator Loss: 2.947460, Discriminator Loss: 0.469006\n",
      "Step 46000: Generator Loss: 2.985872, Discriminator Loss: 0.481676\n",
      "Step 48000: Generator Loss: 2.833848, Discriminator Loss: 0.396953\n",
      "Step 50000: Generator Loss: 3.065562, Discriminator Loss: 0.451542\n",
      "Step 52000: Generator Loss: 3.148859, Discriminator Loss: 0.368824\n",
      "Step 54000: Generator Loss: 2.781684, Discriminator Loss: 0.384958\n",
      "Step 56000: Generator Loss: 2.809290, Discriminator Loss: 0.454381\n",
      "Step 58000: Generator Loss: 2.822528, Discriminator Loss: 0.578111\n",
      "Step 60000: Generator Loss: 3.189111, Discriminator Loss: 0.433900\n",
      "Step 62000: Generator Loss: 2.416289, Discriminator Loss: 0.610656\n",
      "Step 64000: Generator Loss: 2.820429, Discriminator Loss: 0.437538\n",
      "Step 66000: Generator Loss: 3.094636, Discriminator Loss: 0.317948\n",
      "Step 68000: Generator Loss: 2.891489, Discriminator Loss: 0.464480\n",
      "Step 70000: Generator Loss: 3.160850, Discriminator Loss: 0.387913\n"
     ]
    }
   ],
   "source": [
    "# Start Training\n",
    "sess = tf.Session()\n",
    "\n",
    "# Run the init\n",
    "sess.run(init)\n",
    "\n",
    "# Training\n",
    "for i in range(1, num_steps+1):\n",
    "    # Prepare Data\n",
    "    batch_x, _ = mnist.train.next_batch(batch_size)\n",
    "    # Generate noise to feed to the generator\n",
    "    z = np.random.uniform(-1., 1., size=[batch_size, noise_dim])\n",
    "    \n",
    "    # Train\n",
    "    feed_dict = {disc_input: batch_x, gen_input: z}\n",
    "    _, _, gl, dl = sess.run([train_gen, train_disc, gen_loss, disc_loss], feed_dict=feed_dict)\n",
    "    if i%2000 == 0 or i == 1:\n",
    "        print('Step %i: Generator Loss: %f, Discriminator Loss: %f' % (i, gl, dl))"
   ]
  }
 ],
 "metadata": {
  "kernelspec": {
   "display_name": "Python 3",
   "language": "python",
   "name": "python3"
  },
  "language_info": {
   "codemirror_mode": {
    "name": "ipython",
    "version": 3
   },
   "file_extension": ".py",
   "mimetype": "text/x-python",
   "name": "python",
   "nbconvert_exporter": "python",
   "pygments_lexer": "ipython3",
   "version": "3.6.2"
  }
 },
 "nbformat": 4,
 "nbformat_minor": 2
}
